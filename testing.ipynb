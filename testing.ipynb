{
 "cells": [
  {
   "cell_type": "code",
   "execution_count": 17,
   "metadata": {},
   "outputs": [],
   "source": [
    "import preprocess"
   ]
  },
  {
   "cell_type": "code",
   "execution_count": 18,
   "metadata": {},
   "outputs": [
    {
     "name": "stdout",
     "output_type": "stream",
     "text": [
      "Found artist file\n",
      "Found 25 songs\n",
      "Saving lyrics to file\n"
     ]
    },
    {
     "ename": "FileNotFoundError",
     "evalue": "[Errno 2] No such file or directory: 'processed/Pharrell Williams.txt'",
     "output_type": "error",
     "traceback": [
      "\u001b[0;31m---------------------------------------------------------------------------\u001b[0m",
      "\u001b[0;31mFileNotFoundError\u001b[0m                         Traceback (most recent call last)",
      "\u001b[1;32m/Users/matt/Developer/repos/fake-pharrell/testing.ipynb Cell 2'\u001b[0m in \u001b[0;36m<cell line: 1>\u001b[0;34m()\u001b[0m\n\u001b[0;32m----> <a href='vscode-notebook-cell:/Users/matt/Developer/repos/fake-pharrell/testing.ipynb#ch0000001?line=0'>1</a>\u001b[0m preprocess\u001b[39m.\u001b[39;49mrun(\u001b[39m\"\u001b[39;49m\u001b[39mscrapes/Pharrell Williams.json\u001b[39;49m\u001b[39m\"\u001b[39;49m, \u001b[39m\"\u001b[39;49m\u001b[39mPharrell Williams\u001b[39;49m\u001b[39m\"\u001b[39;49m, \u001b[39m25\u001b[39;49m)\n",
      "File \u001b[0;32m~/Developer/repos/fake-pharrell/preprocess.py:40\u001b[0m, in \u001b[0;36mrun\u001b[0;34m(path_to_file, artist_name, num_songs, dir, file_name)\u001b[0m\n\u001b[1;32m     38\u001b[0m     all_lyrics \u001b[39m=\u001b[39m _read_string_from_file(all_lyrics_path)\n\u001b[1;32m     39\u001b[0m \u001b[39melse\u001b[39;00m:\n\u001b[0;32m---> 40\u001b[0m     all_lyrics \u001b[39m=\u001b[39m _write_lyrics_to_file(artist_data, all_lyrics_path)\n\u001b[1;32m     41\u001b[0m     \u001b[39mprint\u001b[39m(\u001b[39m\"\u001b[39m\u001b[39mLyrics saved to file\u001b[39m\u001b[39m\"\u001b[39m)\n\u001b[1;32m     43\u001b[0m \u001b[39mprint\u001b[39m(\u001b[39m\"\u001b[39m\u001b[39mGenerating character embeddings\u001b[39m\u001b[39m\"\u001b[39m)\n",
      "File \u001b[0;32m~/Developer/repos/fake-pharrell/preprocess.py:112\u001b[0m, in \u001b[0;36m_write_lyrics_to_file\u001b[0;34m(artist, path_to_file)\u001b[0m\n\u001b[1;32m    105\u001b[0m \u001b[39m\"\"\" Writes the lyrics to a file. \u001b[39;00m\n\u001b[1;32m    106\u001b[0m \u001b[39mArgs: \u001b[39;00m\n\u001b[1;32m    107\u001b[0m \u001b[39m    artist: artist object\u001b[39;00m\n\u001b[1;32m    108\u001b[0m \u001b[39m    path_to_file: path to the file\u001b[39;00m\n\u001b[1;32m    109\u001b[0m \u001b[39mReturns: all_lyrics (str): lyrics as one string\u001b[39;00m\n\u001b[1;32m    110\u001b[0m \u001b[39m\"\"\"\u001b[39;00m\n\u001b[1;32m    111\u001b[0m all_lyrics \u001b[39m=\u001b[39m \u001b[39m'\u001b[39m\u001b[39m\\n\u001b[39;00m\u001b[39m'\u001b[39m\u001b[39m.\u001b[39mjoin(song[\u001b[39m\"\u001b[39m\u001b[39mlyrics\u001b[39m\u001b[39m\"\u001b[39m] \u001b[39mfor\u001b[39;00m song \u001b[39min\u001b[39;00m artist[\u001b[39m\"\u001b[39m\u001b[39msongs\u001b[39m\u001b[39m\"\u001b[39m])\n\u001b[0;32m--> 112\u001b[0m \u001b[39mwith\u001b[39;00m \u001b[39mopen\u001b[39;49m(path_to_file, \u001b[39m'\u001b[39;49m\u001b[39mw\u001b[39;49m\u001b[39m'\u001b[39;49m,encoding\u001b[39m=\u001b[39;49m\u001b[39m\"\u001b[39;49m\u001b[39mutf-8\u001b[39;49m\u001b[39m\"\u001b[39;49m) \u001b[39mas\u001b[39;00m file:\n\u001b[1;32m    113\u001b[0m     file\u001b[39m.\u001b[39mwrite(all_lyrics)\n\u001b[1;32m    114\u001b[0m \u001b[39mreturn\u001b[39;00m all_lyrics\n",
      "\u001b[0;31mFileNotFoundError\u001b[0m: [Errno 2] No such file or directory: 'processed/Pharrell Williams.txt'"
     ]
    }
   ],
   "source": [
    "preprocess.run(\"scrapes/Pharrell Williams.json\", \"Pharrell Williams\", 25)"
   ]
  },
  {
   "cell_type": "code",
   "execution_count": 6,
   "metadata": {},
   "outputs": [],
   "source": [
    "artist = json.load(open(\"scrapes/Pharrell Williams.json\"))"
   ]
  },
  {
   "cell_type": "code",
   "execution_count": 9,
   "metadata": {},
   "outputs": [
    {
     "data": {
      "text/plain": [
       "dict_keys(['alternate_names', 'api_path', 'description', 'facebook_name', 'followers_count', 'header_image_url', 'id', 'image_url', 'instagram_name', 'is_meme_verified', 'is_verified', 'name', 'translation_artist', 'twitter_name', 'url', 'current_user_metadata', 'iq', 'description_annotation', 'user', 'songs'])"
      ]
     },
     "execution_count": 9,
     "metadata": {},
     "output_type": "execute_result"
    }
   ],
   "source": [
    "def write_string"
   ]
  },
  {
   "cell_type": "code",
   "execution_count": 15,
   "metadata": {},
   "outputs": [
    {
     "data": {
      "text/plain": [
       "\"Happy Lyrics[Produced by Pharrell Williams]\\n\\n[Verse 1]\\nIt might seem crazy what I'm 'bout to say\\nSunshine she's here, you can take a break\\nI'm a hot air balloon that could go to space\\nWith the air, like I don't care, baby, by the way\\n\\n[Chorus]\\n(Because I'm happy)\\nClap along if you feel like a room without a roof\\n(Because I'm happy)\\nClap along if you feel like happiness is the truth\\n(Because I'm happy)\\nClap along if you know what happiness is to you\\n(Because I'm happy)\\nClap along if you feel like that's what you wanna do\\n[Verse 2]\\nHere come bad news, talking this and that (Yeah!)\\nWell, give me all you got, don't hold it back (Yeah!)\\nWell, I should probably warn ya, I'll be just fine (Yeah!)\\nNo offense to you, don’t waste your time, here's why\\n\\n[Chorus]\\n(Because I'm happy)\\nClap along if you feel like a room without a roof\\n(Because I'm happy)\\nClap along if you feel like happiness is the truth\\n(Because I'm happy)\\nClap along if you know what happiness is to you\\n(Because I'm happy)\\nClap along if you feel like that's what you wanna do\\n\\n[Bridge]\\nBring me down\\nCan't nothing bring me down\\nMy level's too high to bring me down\\nCan't nothing bring me down, I said\\nBring me down\\nCan't nothing bring me down\\nMy level's too high to bring me down\\nCan't nothing bring me down, I said\\n[Chorus]\\n(Because I'm happy)\\nClap along if you feel like a room without a roof\\n(Because I'm happy)\\nClap along if you feel like happiness is the truth\\n(Because I'm happy)\\nClap along if you know what happiness is to you\\n(Because I'm happy)\\nClap along if you feel like that's what you wanna do\\n(Because I'm happy)\\nClap along if you feel like a room without a roof\\n(Because I'm happy)\\nClap along if you feel like happiness is the truth\\n(Because I'm happy)\\nClap along if you know what happiness is to you\\n(Because I'm happy)\\nClap along if you feel like that's what you wanna do\\n\\n[Bridge]\\nBring me down\\nCan't nothing bring me down\\nMy level's too high to bring me down\\nCan't nothing bring me down, I said...\\n[Chorus]\\n(Because I'm happy)\\nClap along if you feel like a room without a roof\\n(Because I'm happy)\\nClap along if you feel like happiness is the truth\\n(Because I'm happy)\\nClap along if you know what happiness is to you\\n(Because I'm happy)\\nClap along if you feel like that's what you wanna do\\n(Because I'm happy)\\nClap along if you feel like a room without a roof\\n(Because I'm happy)\\nClap along if you feel like happiness is the truth\\n(Because I'm happy)\\nClap along if you know what happiness is to you\\n(Because I'm happy)\\nClap along if you feel like that's what you wanna do (Come on)880Embed\""
      ]
     },
     "execution_count": 15,
     "metadata": {},
     "output_type": "execute_result"
    }
   ],
   "source": [
    "artist[\"songs\"][0][\"lyrics\"]"
   ]
  },
  {
   "cell_type": "code",
   "execution_count": null,
   "metadata": {},
   "outputs": [],
   "source": []
  },
  {
   "cell_type": "code",
   "execution_count": null,
   "metadata": {},
   "outputs": [],
   "source": []
  },
  {
   "cell_type": "code",
   "execution_count": null,
   "metadata": {},
   "outputs": [],
   "source": []
  },
  {
   "cell_type": "code",
   "execution_count": null,
   "metadata": {},
   "outputs": [],
   "source": []
  },
  {
   "cell_type": "code",
   "execution_count": null,
   "metadata": {},
   "outputs": [],
   "source": []
  },
  {
   "cell_type": "code",
   "execution_count": null,
   "metadata": {},
   "outputs": [],
   "source": []
  },
  {
   "cell_type": "code",
   "execution_count": null,
   "metadata": {},
   "outputs": [],
   "source": []
  },
  {
   "cell_type": "code",
   "execution_count": null,
   "metadata": {},
   "outputs": [],
   "source": []
  },
  {
   "cell_type": "code",
   "execution_count": null,
   "metadata": {},
   "outputs": [],
   "source": []
  },
  {
   "cell_type": "code",
   "execution_count": 2,
   "metadata": {},
   "outputs": [],
   "source": [
    "import json"
   ]
  },
  {
   "cell_type": "code",
   "execution_count": null,
   "metadata": {},
   "outputs": [],
   "source": []
  },
  {
   "cell_type": "code",
   "execution_count": null,
   "metadata": {},
   "outputs": [],
   "source": []
  },
  {
   "cell_type": "code",
   "execution_count": null,
   "metadata": {},
   "outputs": [],
   "source": []
  }
 ],
 "metadata": {
  "kernelspec": {
   "display_name": "Python 3.9.13 ('base')",
   "language": "python",
   "name": "python3"
  },
  "language_info": {
   "codemirror_mode": {
    "name": "ipython",
    "version": 3
   },
   "file_extension": ".py",
   "mimetype": "text/x-python",
   "name": "python",
   "nbconvert_exporter": "python",
   "pygments_lexer": "ipython3",
   "version": "3.9.13"
  },
  "orig_nbformat": 4,
  "vscode": {
   "interpreter": {
    "hash": "5eab97af604e4ce0917eafdd62b06a9dbbd25b2433171a0c1e332c92a74df9f1"
   }
  }
 },
 "nbformat": 4,
 "nbformat_minor": 2
}
